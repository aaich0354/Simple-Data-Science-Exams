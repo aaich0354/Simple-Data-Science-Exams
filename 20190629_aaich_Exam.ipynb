{
    "nbformat_minor": 1, 
    "cells": [
        {
            "source": "# My Jupyter Notebook on IBM Data Science Experience", 
            "cell_type": "markdown", 
            "metadata": {
                "collapsed": true
            }
        }, 
        {
            "source": "**Anupam Aich**", 
            "cell_type": "markdown", 
            "metadata": {}
        }, 
        {
            "source": "*I am interested in Data Science to apply this in the field of health sciences. In the era of genomics, transcriptomics and proteomics analysis and with avaialbility of resources to collect vast array of patient characteristics, it has become instrumental to utilize Data Science to understand and elucidate patterns in progression and treatment of diseases.*", 
            "cell_type": "markdown", 
            "metadata": {}
        }, 
        {
            "source": "### The code in cell 5 will display a sum of 1 & 1.", 
            "cell_type": "markdown", 
            "metadata": {}
        }, 
        {
            "execution_count": 4, 
            "cell_type": "code", 
            "metadata": {}, 
            "outputs": [
                {
                    "output_type": "stream", 
                    "name": "stdout", 
                    "text": "2\n"
                }
            ], 
            "source": "x = 1+1\nprint (x)"
        }, 
        {
            "source": "1. Item 1\n2. Item 2\n\n| Name | Age | Sex |\n| ---- |-----|-----|\n| Tom  | 30  | Male|\n| Moly | 25  | Female |\n\n\n> this is a quote", 
            "cell_type": "markdown", 
            "metadata": {}
        }, 
        {
            "execution_count": null, 
            "cell_type": "code", 
            "metadata": {}, 
            "outputs": [], 
            "source": ""
        }, 
        {
            "execution_count": null, 
            "cell_type": "code", 
            "metadata": {}, 
            "outputs": [], 
            "source": ""
        }
    ], 
    "metadata": {
        "kernelspec": {
            "display_name": "Python 3.6 with Spark", 
            "name": "python36", 
            "language": "python3"
        }, 
        "language_info": {
            "mimetype": "text/x-python", 
            "nbconvert_exporter": "python", 
            "version": "3.6.8", 
            "name": "python", 
            "file_extension": ".py", 
            "pygments_lexer": "ipython3", 
            "codemirror_mode": {
                "version": 3, 
                "name": "ipython"
            }
        }
    }, 
    "nbformat": 4
}